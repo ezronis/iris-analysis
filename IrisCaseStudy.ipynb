{
 "cells": [
  {
   "cell_type": "markdown",
   "metadata": {},
   "source": [
    "# Iris Dataset Case Study\n",
    "\n",
    "## Hello World of Machine Learning: Classification of Iris Flowers\n",
    "Welcome to Machine Learning! \n",
    "\n",
    "The Iris Dataset is one of the most famous datasets in the machine learning community. This dataset consists of the physical parameters of three species of flower — Versicolor, Setosa and Virginica. The numeric parameters which the dataset contains are Sepal width, Sepal length, Petal width and Petal length. \n",
    "\n",
    "In this excercise, we'll predict the species of the flowers based on these parameters. The data consists of continuous numeric values which describe the dimensions of the respective features. We will be training the model based on these features.\n",
    "\n",
    "### What makes this excercise doable:\n",
    "* Attributes are numeric\n",
    "* This classification problem introduces fundamental supervised learning algorithms\n",
    "* It only has 4 attributes and 150 rows - small, easy to explore, and not memory intensive\n",
    "* All numeric attributes are of the same unit scale, not requiring any special scaling or transformations\n",
    "\n",
    "### Summary:\n",
    "In this step-by-step tutorial you will:\n",
    "* Download and install Python SciPy and get the most useful package for machine learning in Python.\n",
    "* Load a dataset and understand it’s structure using statistical summaries and data visualization.\n",
    "* Create 6 machine learning models, pick the best and build confidence that the accuracy is reliable.\n"
   ]
  },
  {
   "cell_type": "markdown",
   "metadata": {},
   "source": [
    "### 1. Create a virtual env and install libraries\n",
    "* scipy\n",
    "* numpy\n",
    "* matplotlib\n",
    "* pandas\n",
    "* sklearn\n",
    "* seaborn"
   ]
  },
  {
   "cell_type": "markdown",
   "metadata": {},
   "source": [
    "### 2. Load the data and import the libraries\n",
    "Pro tip: the sklearn library \n",
    "`import seaborn as sns\n",
    "iris = sns.load_dataset('iris')`"
   ]
  },
  {
   "cell_type": "markdown",
   "metadata": {},
   "source": [
    "### 3. Summarize the Dataset\n",
    "1. Dimensions of the dataset.\n",
    "2. Peek at the data itself.\n",
    "3. Statistical summary of all attributes.\n",
    "4. Breakdown of the data by the class variable."
   ]
  },
  {
   "cell_type": "markdown",
   "metadata": {},
   "source": [
    "### 4. Data Visualization\n",
    "1. Univariate plots to better understand each attribute.\n",
    "2. Multivariate plots to better understand the relationships between attributes."
   ]
  },
  {
   "cell_type": "markdown",
   "metadata": {},
   "source": [
    "### 5. Evaluate Some Algorithms\n",
    "1. Separate out a validation dataset.\n",
    "\tWe will split the loaded dataset into two, 80% of which we will use to train, \tevaluate and select among our models, and 20% that we will hold back as a \tvalidation dataset.\n",
    "1. Set-up the test harness to use 10-fold cross validation.\n",
    "2. Build multiple different models to predict species from flower measurements\n",
    "3. Select the best model."
   ]
  }
 ],
 "metadata": {
  "kernelspec": {
   "display_name": "Python 3",
   "language": "python",
   "name": "python3"
  },
  "language_info": {
   "codemirror_mode": {
    "name": "ipython",
    "version": 3
   },
   "file_extension": ".py",
   "mimetype": "text/x-python",
   "name": "python",
   "nbconvert_exporter": "python",
   "pygments_lexer": "ipython3",
   "version": "3.6.4"
  }
 },
 "nbformat": 4,
 "nbformat_minor": 4
}
